{
  "nbformat": 4,
  "nbformat_minor": 0,
  "metadata": {
    "colab": {
      "name": "J-component Assignment-1",
      "provenance": [],
      "collapsed_sections": []
    },
    "kernelspec": {
      "display_name": "Python 3",
      "name": "python3"
    },
    "language_info": {
      "name": "python"
    }
  },
  "cells": [
    {
      "cell_type": "code",
      "metadata": {
        "colab": {
          "base_uri": "https://localhost:8080/",
          "height": 408
        },
        "id": "0O-COBwAYiO7",
        "outputId": "1de722c7-5600-4df0-d487-1d8d84023d99"
      },
      "source": [
        "import pandas as pd\n",
        "d=pd.read_csv('/content/Life Expectancy Data-1 (1).csv')\n",
        "print(d)"
      ],
      "execution_count": 15,
      "outputs": [
        {
          "output_type": "error",
          "ename": "FileNotFoundError",
          "evalue": "ignored",
          "traceback": [
            "\u001b[0;31m---------------------------------------------------------------------------\u001b[0m",
            "\u001b[0;31mFileNotFoundError\u001b[0m                         Traceback (most recent call last)",
            "\u001b[0;32m<ipython-input-15-696a3892547d>\u001b[0m in \u001b[0;36m<module>\u001b[0;34m()\u001b[0m\n\u001b[1;32m      1\u001b[0m \u001b[0;32mimport\u001b[0m \u001b[0mpandas\u001b[0m \u001b[0;32mas\u001b[0m \u001b[0mpd\u001b[0m\u001b[0;34m\u001b[0m\u001b[0;34m\u001b[0m\u001b[0m\n\u001b[0;32m----> 2\u001b[0;31m \u001b[0md\u001b[0m\u001b[0;34m=\u001b[0m\u001b[0mpd\u001b[0m\u001b[0;34m.\u001b[0m\u001b[0mread_csv\u001b[0m\u001b[0;34m(\u001b[0m\u001b[0;34m'/content/Life Expectancy Data-1 (1).csv'\u001b[0m\u001b[0;34m)\u001b[0m\u001b[0;34m\u001b[0m\u001b[0;34m\u001b[0m\u001b[0m\n\u001b[0m\u001b[1;32m      3\u001b[0m \u001b[0mprint\u001b[0m\u001b[0;34m(\u001b[0m\u001b[0md\u001b[0m\u001b[0;34m)\u001b[0m\u001b[0;34m\u001b[0m\u001b[0;34m\u001b[0m\u001b[0m\n",
            "\u001b[0;32m/usr/local/lib/python3.7/dist-packages/pandas/io/parsers.py\u001b[0m in \u001b[0;36mread_csv\u001b[0;34m(filepath_or_buffer, sep, delimiter, header, names, index_col, usecols, squeeze, prefix, mangle_dupe_cols, dtype, engine, converters, true_values, false_values, skipinitialspace, skiprows, skipfooter, nrows, na_values, keep_default_na, na_filter, verbose, skip_blank_lines, parse_dates, infer_datetime_format, keep_date_col, date_parser, dayfirst, cache_dates, iterator, chunksize, compression, thousands, decimal, lineterminator, quotechar, quoting, doublequote, escapechar, comment, encoding, dialect, error_bad_lines, warn_bad_lines, delim_whitespace, low_memory, memory_map, float_precision)\u001b[0m\n\u001b[1;32m    686\u001b[0m     )\n\u001b[1;32m    687\u001b[0m \u001b[0;34m\u001b[0m\u001b[0m\n\u001b[0;32m--> 688\u001b[0;31m     \u001b[0;32mreturn\u001b[0m \u001b[0m_read\u001b[0m\u001b[0;34m(\u001b[0m\u001b[0mfilepath_or_buffer\u001b[0m\u001b[0;34m,\u001b[0m \u001b[0mkwds\u001b[0m\u001b[0;34m)\u001b[0m\u001b[0;34m\u001b[0m\u001b[0;34m\u001b[0m\u001b[0m\n\u001b[0m\u001b[1;32m    689\u001b[0m \u001b[0;34m\u001b[0m\u001b[0m\n\u001b[1;32m    690\u001b[0m \u001b[0;34m\u001b[0m\u001b[0m\n",
            "\u001b[0;32m/usr/local/lib/python3.7/dist-packages/pandas/io/parsers.py\u001b[0m in \u001b[0;36m_read\u001b[0;34m(filepath_or_buffer, kwds)\u001b[0m\n\u001b[1;32m    452\u001b[0m \u001b[0;34m\u001b[0m\u001b[0m\n\u001b[1;32m    453\u001b[0m     \u001b[0;31m# Create the parser.\u001b[0m\u001b[0;34m\u001b[0m\u001b[0;34m\u001b[0m\u001b[0;34m\u001b[0m\u001b[0m\n\u001b[0;32m--> 454\u001b[0;31m     \u001b[0mparser\u001b[0m \u001b[0;34m=\u001b[0m \u001b[0mTextFileReader\u001b[0m\u001b[0;34m(\u001b[0m\u001b[0mfp_or_buf\u001b[0m\u001b[0;34m,\u001b[0m \u001b[0;34m**\u001b[0m\u001b[0mkwds\u001b[0m\u001b[0;34m)\u001b[0m\u001b[0;34m\u001b[0m\u001b[0;34m\u001b[0m\u001b[0m\n\u001b[0m\u001b[1;32m    455\u001b[0m \u001b[0;34m\u001b[0m\u001b[0m\n\u001b[1;32m    456\u001b[0m     \u001b[0;32mif\u001b[0m \u001b[0mchunksize\u001b[0m \u001b[0;32mor\u001b[0m \u001b[0miterator\u001b[0m\u001b[0;34m:\u001b[0m\u001b[0;34m\u001b[0m\u001b[0;34m\u001b[0m\u001b[0m\n",
            "\u001b[0;32m/usr/local/lib/python3.7/dist-packages/pandas/io/parsers.py\u001b[0m in \u001b[0;36m__init__\u001b[0;34m(self, f, engine, **kwds)\u001b[0m\n\u001b[1;32m    946\u001b[0m             \u001b[0mself\u001b[0m\u001b[0;34m.\u001b[0m\u001b[0moptions\u001b[0m\u001b[0;34m[\u001b[0m\u001b[0;34m\"has_index_names\"\u001b[0m\u001b[0;34m]\u001b[0m \u001b[0;34m=\u001b[0m \u001b[0mkwds\u001b[0m\u001b[0;34m[\u001b[0m\u001b[0;34m\"has_index_names\"\u001b[0m\u001b[0;34m]\u001b[0m\u001b[0;34m\u001b[0m\u001b[0;34m\u001b[0m\u001b[0m\n\u001b[1;32m    947\u001b[0m \u001b[0;34m\u001b[0m\u001b[0m\n\u001b[0;32m--> 948\u001b[0;31m         \u001b[0mself\u001b[0m\u001b[0;34m.\u001b[0m\u001b[0m_make_engine\u001b[0m\u001b[0;34m(\u001b[0m\u001b[0mself\u001b[0m\u001b[0;34m.\u001b[0m\u001b[0mengine\u001b[0m\u001b[0;34m)\u001b[0m\u001b[0;34m\u001b[0m\u001b[0;34m\u001b[0m\u001b[0m\n\u001b[0m\u001b[1;32m    949\u001b[0m \u001b[0;34m\u001b[0m\u001b[0m\n\u001b[1;32m    950\u001b[0m     \u001b[0;32mdef\u001b[0m \u001b[0mclose\u001b[0m\u001b[0;34m(\u001b[0m\u001b[0mself\u001b[0m\u001b[0;34m)\u001b[0m\u001b[0;34m:\u001b[0m\u001b[0;34m\u001b[0m\u001b[0;34m\u001b[0m\u001b[0m\n",
            "\u001b[0;32m/usr/local/lib/python3.7/dist-packages/pandas/io/parsers.py\u001b[0m in \u001b[0;36m_make_engine\u001b[0;34m(self, engine)\u001b[0m\n\u001b[1;32m   1178\u001b[0m     \u001b[0;32mdef\u001b[0m \u001b[0m_make_engine\u001b[0m\u001b[0;34m(\u001b[0m\u001b[0mself\u001b[0m\u001b[0;34m,\u001b[0m \u001b[0mengine\u001b[0m\u001b[0;34m=\u001b[0m\u001b[0;34m\"c\"\u001b[0m\u001b[0;34m)\u001b[0m\u001b[0;34m:\u001b[0m\u001b[0;34m\u001b[0m\u001b[0;34m\u001b[0m\u001b[0m\n\u001b[1;32m   1179\u001b[0m         \u001b[0;32mif\u001b[0m \u001b[0mengine\u001b[0m \u001b[0;34m==\u001b[0m \u001b[0;34m\"c\"\u001b[0m\u001b[0;34m:\u001b[0m\u001b[0;34m\u001b[0m\u001b[0;34m\u001b[0m\u001b[0m\n\u001b[0;32m-> 1180\u001b[0;31m             \u001b[0mself\u001b[0m\u001b[0;34m.\u001b[0m\u001b[0m_engine\u001b[0m \u001b[0;34m=\u001b[0m \u001b[0mCParserWrapper\u001b[0m\u001b[0;34m(\u001b[0m\u001b[0mself\u001b[0m\u001b[0;34m.\u001b[0m\u001b[0mf\u001b[0m\u001b[0;34m,\u001b[0m \u001b[0;34m**\u001b[0m\u001b[0mself\u001b[0m\u001b[0;34m.\u001b[0m\u001b[0moptions\u001b[0m\u001b[0;34m)\u001b[0m\u001b[0;34m\u001b[0m\u001b[0;34m\u001b[0m\u001b[0m\n\u001b[0m\u001b[1;32m   1181\u001b[0m         \u001b[0;32melse\u001b[0m\u001b[0;34m:\u001b[0m\u001b[0;34m\u001b[0m\u001b[0;34m\u001b[0m\u001b[0m\n\u001b[1;32m   1182\u001b[0m             \u001b[0;32mif\u001b[0m \u001b[0mengine\u001b[0m \u001b[0;34m==\u001b[0m \u001b[0;34m\"python\"\u001b[0m\u001b[0;34m:\u001b[0m\u001b[0;34m\u001b[0m\u001b[0;34m\u001b[0m\u001b[0m\n",
            "\u001b[0;32m/usr/local/lib/python3.7/dist-packages/pandas/io/parsers.py\u001b[0m in \u001b[0;36m__init__\u001b[0;34m(self, src, **kwds)\u001b[0m\n\u001b[1;32m   2008\u001b[0m         \u001b[0mkwds\u001b[0m\u001b[0;34m[\u001b[0m\u001b[0;34m\"usecols\"\u001b[0m\u001b[0;34m]\u001b[0m \u001b[0;34m=\u001b[0m \u001b[0mself\u001b[0m\u001b[0;34m.\u001b[0m\u001b[0musecols\u001b[0m\u001b[0;34m\u001b[0m\u001b[0;34m\u001b[0m\u001b[0m\n\u001b[1;32m   2009\u001b[0m \u001b[0;34m\u001b[0m\u001b[0m\n\u001b[0;32m-> 2010\u001b[0;31m         \u001b[0mself\u001b[0m\u001b[0;34m.\u001b[0m\u001b[0m_reader\u001b[0m \u001b[0;34m=\u001b[0m \u001b[0mparsers\u001b[0m\u001b[0;34m.\u001b[0m\u001b[0mTextReader\u001b[0m\u001b[0;34m(\u001b[0m\u001b[0msrc\u001b[0m\u001b[0;34m,\u001b[0m \u001b[0;34m**\u001b[0m\u001b[0mkwds\u001b[0m\u001b[0;34m)\u001b[0m\u001b[0;34m\u001b[0m\u001b[0;34m\u001b[0m\u001b[0m\n\u001b[0m\u001b[1;32m   2011\u001b[0m         \u001b[0mself\u001b[0m\u001b[0;34m.\u001b[0m\u001b[0munnamed_cols\u001b[0m \u001b[0;34m=\u001b[0m \u001b[0mself\u001b[0m\u001b[0;34m.\u001b[0m\u001b[0m_reader\u001b[0m\u001b[0;34m.\u001b[0m\u001b[0munnamed_cols\u001b[0m\u001b[0;34m\u001b[0m\u001b[0;34m\u001b[0m\u001b[0m\n\u001b[1;32m   2012\u001b[0m \u001b[0;34m\u001b[0m\u001b[0m\n",
            "\u001b[0;32mpandas/_libs/parsers.pyx\u001b[0m in \u001b[0;36mpandas._libs.parsers.TextReader.__cinit__\u001b[0;34m()\u001b[0m\n",
            "\u001b[0;32mpandas/_libs/parsers.pyx\u001b[0m in \u001b[0;36mpandas._libs.parsers.TextReader._setup_parser_source\u001b[0;34m()\u001b[0m\n",
            "\u001b[0;31mFileNotFoundError\u001b[0m: [Errno 2] No such file or directory: '/content/Life Expectancy Data-1 (1).csv'"
          ]
        }
      ]
    },
    {
      "cell_type": "code",
      "metadata": {
        "colab": {
          "base_uri": "https://localhost:8080/"
        },
        "id": "zoFTtJekZAZM",
        "outputId": "f6bf8857-b028-43d7-cee9-d6fadb14e6ef"
      },
      "source": [
        "a1=d['Adult Mortality']\n",
        "y=d['Life expectancy ']\n",
        "print(a1,y)"
      ],
      "execution_count": 16,
      "outputs": [
        {
          "output_type": "stream",
          "name": "stdout",
          "text": [
            "0       263.0\n",
            "1       271.0\n",
            "2       268.0\n",
            "3       272.0\n",
            "4       275.0\n",
            "        ...  \n",
            "2933    723.0\n",
            "2934    715.0\n",
            "2935     73.0\n",
            "2936    686.0\n",
            "2937    665.0\n",
            "Name: Adult Mortality, Length: 2938, dtype: float64 0       65.0\n",
            "1       59.9\n",
            "2       59.9\n",
            "3       59.5\n",
            "4       59.2\n",
            "        ... \n",
            "2933    44.3\n",
            "2934    44.5\n",
            "2935    44.8\n",
            "2936    45.3\n",
            "2937    46.0\n",
            "Name: Life expectancy , Length: 2938, dtype: float64\n"
          ]
        }
      ]
    },
    {
      "cell_type": "code",
      "metadata": {
        "colab": {
          "base_uri": "https://localhost:8080/",
          "height": 282
        },
        "id": "roca6gIHZCd0",
        "outputId": "7f07344d-b628-4c37-a9b9-eff6024bf315"
      },
      "source": [
        "from matplotlib import pyplot as pt\n",
        "pt.scatter(a1,y)"
      ],
      "execution_count": 17,
      "outputs": [
        {
          "output_type": "execute_result",
          "data": {
            "text/plain": [
              "<matplotlib.collections.PathCollection at 0x7faee0e67890>"
            ]
          },
          "metadata": {},
          "execution_count": 17
        },
        {
          "output_type": "display_data",
          "data": {
            "image/png": "[encoded data removed]",
            "text/plain": [
              "<Figure size 432x288 with 1 Axes>"
            ]
          },
          "metadata": {
            "needs_background": "light"
          }
        }
      ]
    },
    {
      "cell_type": "code",
      "metadata": {
        "id": "m_PevpmOg8RR"
      },
      "source": [
        "## from the above graph we can say that as the x values increases the y values  decreases constantly \n",
        "## therefore  is inversly proportional to y"
      ],
      "execution_count": null,
      "outputs": []
    },
    {
      "cell_type": "code",
      "metadata": {
        "id": "nr59am8xZCku",
        "colab": {
          "base_uri": "https://localhost:8080/"
        },
        "outputId": "955a745c-df53-459f-e10d-9381b7cd0157"
      },
      "source": [
        "B1=d['infant deaths']\n",
        "y=d['Life expectancy ']\n",
        "print(B1,y)"
      ],
      "execution_count": 18,
      "outputs": [
        {
          "output_type": "stream",
          "name": "stdout",
          "text": [
            "0       62\n",
            "1       64\n",
            "2       66\n",
            "3       69\n",
            "4       71\n",
            "        ..\n",
            "2933    27\n",
            "2934    26\n",
            "2935    25\n",
            "2936    25\n",
            "2937    24\n",
            "Name: infant deaths, Length: 2938, dtype: int64 0       65.0\n",
            "1       59.9\n",
            "2       59.9\n",
            "3       59.5\n",
            "4       59.2\n",
            "        ... \n",
            "2933    44.3\n",
            "2934    44.5\n",
            "2935    44.8\n",
            "2936    45.3\n",
            "2937    46.0\n",
            "Name: Life expectancy , Length: 2938, dtype: float64\n"
          ]
        }
      ]
    },
    {
      "cell_type": "code",
      "metadata": {
        "colab": {
          "base_uri": "https://localhost:8080/",
          "height": 282
        },
        "id": "KXKKE1pmZCmX",
        "outputId": "1293c810-3363-4c4d-dfed-76b0fa31c954"
      },
      "source": [
        "from matplotlib import pyplot as pt\n",
        "pt.scatter(B1,y)"
      ],
      "execution_count": null,
      "outputs": [
        {
          "data": {
            "text/plain": [
              "<matplotlib.collections.PathCollection at 0x7f8474dd22d0>"
            ]
          },
          "execution_count": 66,
          "metadata": {},
          "output_type": "execute_result"
        },
        {
          "data": {
            "image/png": "[encoded data removed]",
            "text/plain": [
              "<Figure size 432x288 with 1 Axes>"
            ]
          },
          "metadata": {},
          "output_type": "display_data"
        }
      ]
    },
    {
      "cell_type": "code",
      "metadata": {
        "id": "5m1tnv7ThFl-"
      },
      "source": [
        "## from the above graph we can say that as the x values increases the y values  decreases constantly \n",
        "## therefore  is inversly proportional to y"
      ],
      "execution_count": null,
      "outputs": []
    },
    {
      "cell_type": "code",
      "metadata": {
        "colab": {
          "base_uri": "https://localhost:8080/"
        },
        "id": "7S9fKd_6ZCpy",
        "outputId": "282cfa75-8d0e-48cc-fc74-73abd77702f4"
      },
      "source": [
        "c1=d['Alcohol']\n",
        "y=d['Life expectancy ']\n",
        "print(c1,y)"
      ],
      "execution_count": null,
      "outputs": [
        {
          "name": "stdout",
          "output_type": "stream",
          "text": [
            "0       0.01\n",
            "1       0.01\n",
            "2       0.01\n",
            "3       0.01\n",
            "4       0.01\n",
            "        ... \n",
            "2933    4.36\n",
            "2934    4.06\n",
            "2935    4.43\n",
            "2936    1.72\n",
            "2937    1.68\n",
            "Name: Alcohol, Length: 2938, dtype: float64 0       65.0\n",
            "1       59.9\n",
            "2       59.9\n",
            "3       59.5\n",
            "4       59.2\n",
            "        ... \n",
            "2933    44.3\n",
            "2934    44.5\n",
            "2935    44.8\n",
            "2936    45.3\n",
            "2937    46.0\n",
            "Name: Life expectancy , Length: 2938, dtype: float64\n"
          ]
        }
      ]
    },
    {
      "cell_type": "code",
      "metadata": {
        "colab": {
          "base_uri": "https://localhost:8080/",
          "height": 282
        },
        "id": "FsRDgB77ZCso",
        "outputId": "9dc4aed1-e7a6-46a3-d713-c8ed15966901"
      },
      "source": [
        "from matplotlib import pyplot as pt\n",
        "pt.scatter(c1,y)"
      ],
      "execution_count": null,
      "outputs": [
        {
          "data": {
            "text/plain": [
              "<matplotlib.collections.PathCollection at 0x7f8475615890>"
            ]
          },
          "execution_count": 68,
          "metadata": {},
          "output_type": "execute_result"
        },
        {
          "data": {
            "image/png": "[encoded data removed]",
            "text/plain": [
              "<Figure size 432x288 with 1 Axes>"
            ]
          },
          "metadata": {},
          "output_type": "display_data"
        }
      ]
    },
    {
      "cell_type": "code",
      "metadata": {
        "id": "lDpw-TbuhKH9"
      },
      "source": [
        "#from the above graph we ca say the as the x -value increases the y values also increases \n",
        "#x is contant a y is varying"
      ],
      "execution_count": null,
      "outputs": []
    },
    {
      "cell_type": "code",
      "metadata": {
        "id": "FFss-28zZgyf"
      },
      "source": [
        "d1=d['percentage expenditure']\n",
        "y=d['Life expectancy ']\n",
        "print(d1,y)"
      ],
      "execution_count": null,
      "outputs": []
    },
    {
      "cell_type": "code",
      "metadata": {
        "id": "eeHykkz2Zgzv"
      },
      "source": [
        "from matplotlib import pyplot as pt\n",
        "pt.scatter(d1,y)"
      ],
      "execution_count": null,
      "outputs": []
    },
    {
      "cell_type": "code",
      "metadata": {
        "id": "HRXBhWjwhOkh"
      },
      "source": [
        "# from the above graph we can say the  x and y are equal\n",
        "#therefore x id proportional  to y"
      ],
      "execution_count": null,
      "outputs": []
    },
    {
      "cell_type": "code",
      "metadata": {
        "id": "Mx0su1e_Zg3F"
      },
      "source": [
        "e1=d['Hepatitis B']\n",
        "y=d['Life expectancy ']\n",
        "print(e1,y)"
      ],
      "execution_count": null,
      "outputs": []
    },
    {
      "cell_type": "code",
      "metadata": {
        "id": "YehM3Cq3Zg4s"
      },
      "source": [
        "from matplotlib import pyplot as pt\n",
        "pt.scatter(e1,y)"
      ],
      "execution_count": null,
      "outputs": []
    },
    {
      "cell_type": "code",
      "metadata": {
        "id": "9HVOvuBpZg7z"
      },
      "source": [
        "from the abovr graph we can say that  both x,y values are equal  as x values increases y values also increases \n",
        "therefore x=y"
      ],
      "execution_count": null,
      "outputs": []
    },
    {
      "cell_type": "code",
      "metadata": {
        "colab": {
          "base_uri": "https://localhost:8080/"
        },
        "id": "ROpaeT1SZg9I",
        "outputId": "73b4527d-5754-4923-a237-e38a8082f996"
      },
      "source": [
        "z1=d['Measles ']\n",
        "y=d['Life expectancy ']\n",
        "print(z1,y)"
      ],
      "execution_count": null,
      "outputs": [
        {
          "name": "stdout",
          "output_type": "stream",
          "text": [
            "0       1154\n",
            "1        492\n",
            "2        430\n",
            "3       2787\n",
            "4       3013\n",
            "        ... \n",
            "2933      31\n",
            "2934     998\n",
            "2935     304\n",
            "2936     529\n",
            "2937    1483\n",
            "Name: Measles , Length: 2938, dtype: int64 0       65.0\n",
            "1       59.9\n",
            "2       59.9\n",
            "3       59.5\n",
            "4       59.2\n",
            "        ... \n",
            "2933    44.3\n",
            "2934    44.5\n",
            "2935    44.8\n",
            "2936    45.3\n",
            "2937    46.0\n",
            "Name: Life expectancy , Length: 2938, dtype: float64\n"
          ]
        }
      ]
    },
    {
      "cell_type": "code",
      "metadata": {
        "colab": {
          "base_uri": "https://localhost:8080/",
          "height": 282
        },
        "id": "FaGDXD5VZhAa",
        "outputId": "05141a22-643a-4933-8ed6-c217725753b2"
      },
      "source": [
        "from matplotlib import pyplot as pt\n",
        "pt.scatter(z1,y)"
      ],
      "execution_count": null,
      "outputs": [
        {
          "data": {
            "text/plain": [
              "<matplotlib.collections.PathCollection at 0x7f8474efc150>"
            ]
          },
          "execution_count": 61,
          "metadata": {},
          "output_type": "execute_result"
        },
        {
          "data": {
            "image/png": "[encoded data removed]",
            "text/plain": [
              "<Figure size 432x288 with 1 Axes>"
            ]
          },
          "metadata": {},
          "output_type": "display_data"
        }
      ]
    },
    {
      "cell_type": "code",
      "metadata": {
        "id": "D18RTX5SZhCA"
      },
      "source": [
        "from the above graph we can say that x vales are constant and y vales are changing"
      ],
      "execution_count": null,
      "outputs": []
    },
    {
      "cell_type": "code",
      "metadata": {
        "colab": {
          "base_uri": "https://localhost:8080/"
        },
        "id": "BiTuxB0AZhFB",
        "outputId": "6ad94a08-b90a-4a8a-ba13-14725254497e"
      },
      "source": [
        "h1=d[' BMI ']\n",
        "y=d['Life expectancy ']\n",
        "print(h1,y)"
      ],
      "execution_count": null,
      "outputs": [
        {
          "name": "stdout",
          "output_type": "stream",
          "text": [
            "0       19.1\n",
            "1       18.6\n",
            "2       18.1\n",
            "3       17.6\n",
            "4       17.2\n",
            "        ... \n",
            "2933    27.1\n",
            "2934    26.7\n",
            "2935    26.3\n",
            "2936    25.9\n",
            "2937    25.5\n",
            "Name:  BMI , Length: 2938, dtype: float64 0       65.0\n",
            "1       59.9\n",
            "2       59.9\n",
            "3       59.5\n",
            "4       59.2\n",
            "        ... \n",
            "2933    44.3\n",
            "2934    44.5\n",
            "2935    44.8\n",
            "2936    45.3\n",
            "2937    46.0\n",
            "Name: Life expectancy , Length: 2938, dtype: float64\n"
          ]
        }
      ]
    },
    {
      "cell_type": "code",
      "metadata": {
        "colab": {
          "base_uri": "https://localhost:8080/",
          "height": 282
        },
        "id": "o--9X1inZhH5",
        "outputId": "fe322078-8859-45fb-9feb-cd1ce4d6359f"
      },
      "source": [
        "from matplotlib import pyplot as pt\n",
        "pt.scatter(h1,y)"
      ],
      "execution_count": null,
      "outputs": [
        {
          "data": {
            "text/plain": [
              "<matplotlib.collections.PathCollection at 0x7f8474f87390>"
            ]
          },
          "execution_count": 59,
          "metadata": {},
          "output_type": "execute_result"
        },
        {
          "data": {
            "image/png": "[encoded data removed]",
            "text/plain": [
              "<Figure size 432x288 with 1 Axes>"
            ]
          },
          "metadata": {},
          "output_type": "display_data"
        }
      ]
    },
    {
      "cell_type": "code",
      "metadata": {
        "id": "b3kB-ovxZhN_"
      },
      "source": [
        "from the above graph we can say that  as there is a gradual increase in the x vales we can also see the increase  in the v graph\n",
        "therefor x=y"
      ],
      "execution_count": null,
      "outputs": []
    },
    {
      "cell_type": "code",
      "metadata": {
        "colab": {
          "base_uri": "https://localhost:8080/"
        },
        "id": "a4Bu6B5QZhPS",
        "outputId": "25b5d187-aee3-4a93-e9d4-a4d28b087ee2"
      },
      "source": [
        "i1=d['under-five deaths ']\n",
        "y=d['Life expectancy ']\n",
        "print(i1,y)"
      ],
      "execution_count": null,
      "outputs": [
        {
          "name": "stdout",
          "output_type": "stream",
          "text": [
            "0       83\n",
            "1       86\n",
            "2       89\n",
            "3       93\n",
            "4       97\n",
            "        ..\n",
            "2933    42\n",
            "2934    41\n",
            "2935    40\n",
            "2936    39\n",
            "2937    39\n",
            "Name: under-five deaths , Length: 2938, dtype: int64 0       65.0\n",
            "1       59.9\n",
            "2       59.9\n",
            "3       59.5\n",
            "4       59.2\n",
            "        ... \n",
            "2933    44.3\n",
            "2934    44.5\n",
            "2935    44.8\n",
            "2936    45.3\n",
            "2937    46.0\n",
            "Name: Life expectancy , Length: 2938, dtype: float64\n"
          ]
        }
      ]
    },
    {
      "cell_type": "code",
      "metadata": {
        "colab": {
          "base_uri": "https://localhost:8080/",
          "height": 282
        },
        "id": "AApMM-NEZhSj",
        "outputId": "c401e3dd-bf2c-49ce-b0c8-272915410dee"
      },
      "source": [
        "from matplotlib import pyplot as pt\n",
        "pt.scatter(i1,y)"
      ],
      "execution_count": null,
      "outputs": [
        {
          "data": {
            "text/plain": [
              "<matplotlib.collections.PathCollection at 0x7f8474f96dd0>"
            ]
          },
          "execution_count": 57,
          "metadata": {},
          "output_type": "execute_result"
        },
        {
          "data": {
            "image/png": "[encoded data removed]",
            "text/plain": [
              "<Figure size 432x288 with 1 Axes>"
            ]
          },
          "metadata": {},
          "output_type": "display_data"
        }
      ]
    },
    {
      "cell_type": "code",
      "metadata": {
        "id": "eJ2vELrbZhVQ"
      },
      "source": [
        "from the above graph we can say that we can say the as the x vales increases the y vales decreases\n",
        "therefor x is inversely proportional to y"
      ],
      "execution_count": null,
      "outputs": []
    },
    {
      "cell_type": "code",
      "metadata": {
        "colab": {
          "base_uri": "https://localhost:8080/"
        },
        "id": "wU4t8eRdhvvw",
        "outputId": "8bfa15cd-7257-43ba-fa2b-5a60a9d00367"
      },
      "source": [
        "j1=d['Polio']\n",
        "y=d['Life expectancy ']\n",
        "print(j1,y)"
      ],
      "execution_count": null,
      "outputs": [
        {
          "name": "stdout",
          "output_type": "stream",
          "text": [
            "0        6.0\n",
            "1       58.0\n",
            "2       62.0\n",
            "3       67.0\n",
            "4       68.0\n",
            "        ... \n",
            "2933    67.0\n",
            "2934     7.0\n",
            "2935    73.0\n",
            "2936    76.0\n",
            "2937    78.0\n",
            "Name: Polio, Length: 2938, dtype: float64 0       65.0\n",
            "1       59.9\n",
            "2       59.9\n",
            "3       59.5\n",
            "4       59.2\n",
            "        ... \n",
            "2933    44.3\n",
            "2934    44.5\n",
            "2935    44.8\n",
            "2936    45.3\n",
            "2937    46.0\n",
            "Name: Life expectancy , Length: 2938, dtype: float64\n"
          ]
        }
      ]
    },
    {
      "cell_type": "code",
      "metadata": {
        "colab": {
          "base_uri": "https://localhost:8080/",
          "height": 282
        },
        "id": "Ud0v3N7_hvw-",
        "outputId": "9b26dbb8-ae56-447c-df2c-1e0a0e361a7a"
      },
      "source": [
        "from matplotlib import pyplot as pt\n",
        "pt.scatter(j1,y)"
      ],
      "execution_count": null,
      "outputs": [
        {
          "data": {
            "text/plain": [
              "<matplotlib.collections.PathCollection at 0x7f8475024b90>"
            ]
          },
          "execution_count": 53,
          "metadata": {},
          "output_type": "execute_result"
        },
        {
          "data": {
            "image/png": "[encoded data removed]",
            "text/plain": [
              "<Figure size 432x288 with 1 Axes>"
            ]
          },
          "metadata": {},
          "output_type": "display_data"
        }
      ]
    },
    {
      "cell_type": "code",
      "metadata": {
        "id": "LsRecaY_hv0D"
      },
      "source": [
        "from the abbove graph we can say that  both gradual increase can be seen in the x,y valuestherefore x=y"
      ],
      "execution_count": null,
      "outputs": []
    },
    {
      "cell_type": "code",
      "metadata": {
        "colab": {
          "base_uri": "https://localhost:8080/"
        },
        "id": "_IWyThZjhv1Y",
        "outputId": "5553e417-61e6-4cae-89dd-0f7395306b92"
      },
      "source": [
        "k1=d['Total expenditure']\n",
        "y=d['Life expectancy ']\n",
        "print(k1,y)"
      ],
      "execution_count": null,
      "outputs": [
        {
          "name": "stdout",
          "output_type": "stream",
          "text": [
            "0       8.16\n",
            "1       8.18\n",
            "2       8.13\n",
            "3       8.52\n",
            "4       7.87\n",
            "        ... \n",
            "2933    7.13\n",
            "2934    6.52\n",
            "2935    6.53\n",
            "2936    6.16\n",
            "2937    7.10\n",
            "Name: Total expenditure, Length: 2938, dtype: float64 0       65.0\n",
            "1       59.9\n",
            "2       59.9\n",
            "3       59.5\n",
            "4       59.2\n",
            "        ... \n",
            "2933    44.3\n",
            "2934    44.5\n",
            "2935    44.8\n",
            "2936    45.3\n",
            "2937    46.0\n",
            "Name: Life expectancy , Length: 2938, dtype: float64\n"
          ]
        }
      ]
    },
    {
      "cell_type": "code",
      "metadata": {
        "colab": {
          "base_uri": "https://localhost:8080/",
          "height": 282
        },
        "id": "9PzclkHthv40",
        "outputId": "cc7e3fdb-e060-4d1b-c1ac-a8fc59199a33"
      },
      "source": [
        "from matplotlib import pyplot as pt\n",
        "pt.scatter(k1,y)"
      ],
      "execution_count": null,
      "outputs": [
        {
          "data": {
            "text/plain": [
              "<matplotlib.collections.PathCollection at 0x7f84750b75d0>"
            ]
          },
          "execution_count": 51,
          "metadata": {},
          "output_type": "execute_result"
        },
        {
          "data": {
            "image/png": "[encoded data removed]",
            "text/plain": [
              "<Figure size 432x288 with 1 Axes>"
            ]
          },
          "metadata": {},
          "output_type": "display_data"
        }
      ]
    },
    {
      "cell_type": "code",
      "metadata": {
        "id": "CmQw_ckohv59"
      },
      "source": [
        "from the above graph we can say that there does not exist any relation between the x,y \n",
        "x,y  can be  randomly spotted on the graph"
      ],
      "execution_count": null,
      "outputs": []
    },
    {
      "cell_type": "code",
      "metadata": {
        "colab": {
          "base_uri": "https://localhost:8080/"
        },
        "id": "QUBETIOyhv9S",
        "outputId": "70f0b9ec-99a0-4de0-fff3-d67a815f6663"
      },
      "source": [
        "l1=d['Diphtheria ']\n",
        "y=d['Life expectancy ']\n",
        "print(l1,y)"
      ],
      "execution_count": null,
      "outputs": [
        {
          "name": "stdout",
          "output_type": "stream",
          "text": [
            "0       65.0\n",
            "1       62.0\n",
            "2       64.0\n",
            "3       67.0\n",
            "4       68.0\n",
            "        ... \n",
            "2933    65.0\n",
            "2934    68.0\n",
            "2935    71.0\n",
            "2936    75.0\n",
            "2937    78.0\n",
            "Name: Diphtheria , Length: 2938, dtype: float64 0       65.0\n",
            "1       59.9\n",
            "2       59.9\n",
            "3       59.5\n",
            "4       59.2\n",
            "        ... \n",
            "2933    44.3\n",
            "2934    44.5\n",
            "2935    44.8\n",
            "2936    45.3\n",
            "2937    46.0\n",
            "Name: Life expectancy , Length: 2938, dtype: float64\n"
          ]
        }
      ]
    },
    {
      "cell_type": "code",
      "metadata": {
        "colab": {
          "base_uri": "https://localhost:8080/",
          "height": 282
        },
        "id": "FZozC9lGhv-6",
        "outputId": "3547de59-0b7c-44d3-dc95-76d20ce6f1f8"
      },
      "source": [
        "from matplotlib import pyplot as pt\n",
        "pt.scatter(l1,y)"
      ],
      "execution_count": null,
      "outputs": [
        {
          "data": {
            "text/plain": [
              "<matplotlib.collections.PathCollection at 0x7f8475143ed0>"
            ]
          },
          "execution_count": 49,
          "metadata": {},
          "output_type": "execute_result"
        },
        {
          "data": {
            "image/png": "[encoded data removed]",
            "text/plain": [
              "<Figure size 432x288 with 1 Axes>"
            ]
          },
          "metadata": {},
          "output_type": "display_data"
        }
      ]
    },
    {
      "cell_type": "code",
      "metadata": {
        "id": "sqOrQWOEhwCC"
      },
      "source": [
        "from the above graph we can say that the both x,y vales are equal\n",
        "therefore x=y"
      ],
      "execution_count": null,
      "outputs": []
    },
    {
      "cell_type": "code",
      "metadata": {
        "colab": {
          "base_uri": "https://localhost:8080/"
        },
        "id": "kVjsTzyxhwDi",
        "outputId": "64452a11-bb3e-4044-9603-77030bef47db"
      },
      "source": [
        "m1=d[' HIV/AIDS']\n",
        "y=d['Life expectancy ']\n",
        "print(m1,y)"
      ],
      "execution_count": null,
      "outputs": [
        {
          "name": "stdout",
          "output_type": "stream",
          "text": [
            "0        0.1\n",
            "1        0.1\n",
            "2        0.1\n",
            "3        0.1\n",
            "4        0.1\n",
            "        ... \n",
            "2933    33.6\n",
            "2934    36.7\n",
            "2935    39.8\n",
            "2936    42.1\n",
            "2937    43.5\n",
            "Name:  HIV/AIDS, Length: 2938, dtype: float64 0       65.0\n",
            "1       59.9\n",
            "2       59.9\n",
            "3       59.5\n",
            "4       59.2\n",
            "        ... \n",
            "2933    44.3\n",
            "2934    44.5\n",
            "2935    44.8\n",
            "2936    45.3\n",
            "2937    46.0\n",
            "Name: Life expectancy , Length: 2938, dtype: float64\n"
          ]
        }
      ]
    },
    {
      "cell_type": "code",
      "metadata": {
        "colab": {
          "base_uri": "https://localhost:8080/",
          "height": 282
        },
        "id": "-z5crKRuhwGq",
        "outputId": "23bc4241-32ec-44bd-875b-648386394307"
      },
      "source": [
        "from matplotlib import pyplot as pt\n",
        "pt.scatter(m1,y)"
      ],
      "execution_count": null,
      "outputs": [
        {
          "data": {
            "text/plain": [
              "<matplotlib.collections.PathCollection at 0x7f847514ee90>"
            ]
          },
          "execution_count": 46,
          "metadata": {},
          "output_type": "execute_result"
        },
        {
          "data": {
            "image/png": "[encoded data removed]",
            "text/plain": [
              "<Figure size 432x288 with 1 Axes>"
            ]
          },
          "metadata": {},
          "output_type": "display_data"
        }
      ]
    },
    {
      "cell_type": "code",
      "metadata": {
        "id": "F8FcGer8hwH8"
      },
      "source": [
        "from the above graph we can observe that  ther is a constant decrease in the  y vales as the x  values increases\n",
        "therefore  x is inversely proportional to y"
      ],
      "execution_count": null,
      "outputs": []
    },
    {
      "cell_type": "code",
      "metadata": {
        "colab": {
          "base_uri": "https://localhost:8080/"
        },
        "id": "xMqVPPi8hwLM",
        "outputId": "898b5b0f-3b39-477d-b2d6-1b152023db0d"
      },
      "source": [
        "n1=d['GDP']\n",
        "y=d['Life expectancy ']\n",
        "print(n1,y)\n"
      ],
      "execution_count": null,
      "outputs": [
        {
          "name": "stdout",
          "output_type": "stream",
          "text": [
            "0       584.259210\n",
            "1       612.696514\n",
            "2       631.744976\n",
            "3       669.959000\n",
            "4        63.537231\n",
            "           ...    \n",
            "2933    454.366654\n",
            "2934    453.351155\n",
            "2935     57.348340\n",
            "2936    548.587312\n",
            "2937    547.358879\n",
            "Name: GDP, Length: 2938, dtype: float64 0       65.0\n",
            "1       59.9\n",
            "2       59.9\n",
            "3       59.5\n",
            "4       59.2\n",
            "        ... \n",
            "2933    44.3\n",
            "2934    44.5\n",
            "2935    44.8\n",
            "2936    45.3\n",
            "2937    46.0\n",
            "Name: Life expectancy , Length: 2938, dtype: float64\n"
          ]
        }
      ]
    },
    {
      "cell_type": "code",
      "metadata": {
        "colab": {
          "base_uri": "https://localhost:8080/",
          "height": 282
        },
        "id": "0J1Rf_RJhwMq",
        "outputId": "2c3e8f05-6a89-4f8c-f4c9-d6653dcd80ab"
      },
      "source": [
        "from matplotlib import pyplot as pt\n",
        "pt.scatter(n1,y)"
      ],
      "execution_count": null,
      "outputs": [
        {
          "data": {
            "text/plain": [
              "<matplotlib.collections.PathCollection at 0x7f84751e0ad0>"
            ]
          },
          "execution_count": 43,
          "metadata": {},
          "output_type": "execute_result"
        },
        {
          "data": {
            "image/png": "[encoded data removed]",
            "text/plain": [
              "<Figure size 432x288 with 1 Axes>"
            ]
          },
          "metadata": {},
          "output_type": "display_data"
        }
      ]
    },
    {
      "cell_type": "code",
      "metadata": {
        "id": "kyrz9jqShwP9"
      },
      "source": [
        "from the above we can clearly observe that as the x values increases  gradually the y vales also increases\n",
        "therefore we can say that  x is directly proportional to y"
      ],
      "execution_count": null,
      "outputs": []
    },
    {
      "cell_type": "code",
      "metadata": {
        "colab": {
          "base_uri": "https://localhost:8080/"
        },
        "id": "5gWT68T4hwRP",
        "outputId": "329bf093-9ff6-4b9b-fc8c-d6ee968dc964"
      },
      "source": [
        "o1=d['Population']\n",
        "y=d['Life expectancy ']\n",
        "print(o1,y)"
      ],
      "execution_count": null,
      "outputs": [
        {
          "name": "stdout",
          "output_type": "stream",
          "text": [
            "0       33736494.0\n",
            "1         327582.0\n",
            "2       31731688.0\n",
            "3        3696958.0\n",
            "4        2978599.0\n",
            "           ...    \n",
            "2933    12777511.0\n",
            "2934    12633897.0\n",
            "2935      125525.0\n",
            "2936    12366165.0\n",
            "2937    12222251.0\n",
            "Name: Population, Length: 2938, dtype: float64 0       65.0\n",
            "1       59.9\n",
            "2       59.9\n",
            "3       59.5\n",
            "4       59.2\n",
            "        ... \n",
            "2933    44.3\n",
            "2934    44.5\n",
            "2935    44.8\n",
            "2936    45.3\n",
            "2937    46.0\n",
            "Name: Life expectancy , Length: 2938, dtype: float64\n"
          ]
        }
      ]
    },
    {
      "cell_type": "code",
      "metadata": {
        "colab": {
          "base_uri": "https://localhost:8080/",
          "height": 295
        },
        "id": "p4bE8t93hwUN",
        "outputId": "fd145824-7f32-426c-a0b1-57526e85f8bb"
      },
      "source": [
        "from matplotlib import pyplot as pt\n",
        "pt.scatter(o1,y)"
      ],
      "execution_count": null,
      "outputs": [
        {
          "data": {
            "text/plain": [
              "<matplotlib.collections.PathCollection at 0x7f8475275ad0>"
            ]
          },
          "execution_count": 42,
          "metadata": {},
          "output_type": "execute_result"
        },
        {
          "data": {
            "image/png": "[encoded data removed]",
            "text/plain": [
              "<Figure size 432x288 with 1 Axes>"
            ]
          },
          "metadata": {},
          "output_type": "display_data"
        }
      ]
    },
    {
      "cell_type": "code",
      "metadata": {
        "id": "prHs91WDhwVe"
      },
      "source": [
        "from the above graph we can say that as the x values increases the y values   vanishes"
      ],
      "execution_count": null,
      "outputs": []
    },
    {
      "cell_type": "code",
      "metadata": {
        "colab": {
          "base_uri": "https://localhost:8080/"
        },
        "id": "uQwyYif9hwYx",
        "outputId": "100ebe9e-fd7b-4c6a-f448-45116f1d6fa9"
      },
      "source": [
        "p1=d[' thinness  1-19 years']\n",
        "y=d['Life expectancy ']\n",
        "print(p1,y)"
      ],
      "execution_count": null,
      "outputs": [
        {
          "name": "stdout",
          "output_type": "stream",
          "text": [
            "0       17.2\n",
            "1       17.5\n",
            "2       17.7\n",
            "3       17.9\n",
            "4       18.2\n",
            "        ... \n",
            "2933     9.4\n",
            "2934     9.8\n",
            "2935     1.2\n",
            "2936     1.6\n",
            "2937    11.0\n",
            "Name:  thinness  1-19 years, Length: 2938, dtype: float64 0       65.0\n",
            "1       59.9\n",
            "2       59.9\n",
            "3       59.5\n",
            "4       59.2\n",
            "        ... \n",
            "2933    44.3\n",
            "2934    44.5\n",
            "2935    44.8\n",
            "2936    45.3\n",
            "2937    46.0\n",
            "Name: Life expectancy , Length: 2938, dtype: float64\n"
          ]
        }
      ]
    },
    {
      "cell_type": "code",
      "metadata": {
        "colab": {
          "base_uri": "https://localhost:8080/",
          "height": 282
        },
        "id": "cEc2Lp0dhwbj",
        "outputId": "82d1e988-0831-449b-c450-0c127dcdab46"
      },
      "source": [
        "from matplotlib import pyplot as pt\n",
        "pt.scatter(p1,y)"
      ],
      "execution_count": null,
      "outputs": [
        {
          "data": {
            "text/plain": [
              "<matplotlib.collections.PathCollection at 0x7f847532e290>"
            ]
          },
          "execution_count": 38,
          "metadata": {},
          "output_type": "execute_result"
        },
        {
          "data": {
            "image/png": "[encoded data removed]",
            "text/plain": [
              "<Figure size 432x288 with 1 Axes>"
            ]
          },
          "metadata": {},
          "output_type": "display_data"
        }
      ]
    },
    {
      "cell_type": "code",
      "metadata": {
        "id": "RkSSuegXi5mK"
      },
      "source": [
        "from the above graph we can observe that as the x values increases the y values are randomly arranged on the x axis"
      ],
      "execution_count": null,
      "outputs": []
    },
    {
      "cell_type": "code",
      "metadata": {
        "colab": {
          "base_uri": "https://localhost:8080/"
        },
        "id": "LZO8DavYi5nY",
        "outputId": "7e1af639-da35-43c9-9625-cba27784077a"
      },
      "source": [
        "q1=d[' thinness 5-9 years']\n",
        "y=d['Life expectancy ']\n",
        "print(q1,y)"
      ],
      "execution_count": null,
      "outputs": [
        {
          "name": "stdout",
          "output_type": "stream",
          "text": [
            "0       17.3\n",
            "1       17.5\n",
            "2       17.7\n",
            "3       18.0\n",
            "4       18.2\n",
            "        ... \n",
            "2933     9.4\n",
            "2934     9.9\n",
            "2935     1.3\n",
            "2936     1.7\n",
            "2937    11.2\n",
            "Name:  thinness 5-9 years, Length: 2938, dtype: float64 0       65.0\n",
            "1       59.9\n",
            "2       59.9\n",
            "3       59.5\n",
            "4       59.2\n",
            "        ... \n",
            "2933    44.3\n",
            "2934    44.5\n",
            "2935    44.8\n",
            "2936    45.3\n",
            "2937    46.0\n",
            "Name: Life expectancy , Length: 2938, dtype: float64\n"
          ]
        }
      ]
    },
    {
      "cell_type": "code",
      "metadata": {
        "colab": {
          "base_uri": "https://localhost:8080/",
          "height": 282
        },
        "id": "qWXfez9ni5qr",
        "outputId": "a07870f5-29fd-45eb-f366-6d08ec18c50c"
      },
      "source": [
        "from matplotlib import pyplot as pt\n",
        "pt.scatter(q1,y)"
      ],
      "execution_count": null,
      "outputs": [
        {
          "data": {
            "text/plain": [
              "<matplotlib.collections.PathCollection at 0x7f8475b76a10>"
            ]
          },
          "execution_count": 37,
          "metadata": {},
          "output_type": "execute_result"
        },
        {
          "data": {
            "image/png": "[encoded data removed]",
            "text/plain": [
              "<Figure size 432x288 with 1 Axes>"
            ]
          },
          "metadata": {},
          "output_type": "display_data"
        }
      ]
    },
    {
      "cell_type": "code",
      "metadata": {
        "id": "aVjiSF5ci5sK"
      },
      "source": [
        "from the above graph we can observe that as the x values increases the y values are randomly arranged on the x axis"
      ],
      "execution_count": null,
      "outputs": []
    },
    {
      "cell_type": "code",
      "metadata": {
        "colab": {
          "base_uri": "https://localhost:8080/"
        },
        "id": "Vttrh3UMi5vg",
        "outputId": "0918d0e5-7815-4863-fefa-9315242934bd"
      },
      "source": [
        "r1=d['Income composition of resources']\n",
        "y=d['Life expectancy ']\n",
        "print(r1,y)"
      ],
      "execution_count": null,
      "outputs": [
        {
          "name": "stdout",
          "output_type": "stream",
          "text": [
            "0       0.479\n",
            "1       0.476\n",
            "2       0.470\n",
            "3       0.463\n",
            "4       0.454\n",
            "        ...  \n",
            "2933    0.407\n",
            "2934    0.418\n",
            "2935    0.427\n",
            "2936    0.427\n",
            "2937    0.434\n",
            "Name: Income composition of resources, Length: 2938, dtype: float64 0       65.0\n",
            "1       59.9\n",
            "2       59.9\n",
            "3       59.5\n",
            "4       59.2\n",
            "        ... \n",
            "2933    44.3\n",
            "2934    44.5\n",
            "2935    44.8\n",
            "2936    45.3\n",
            "2937    46.0\n",
            "Name: Life expectancy , Length: 2938, dtype: float64\n"
          ]
        }
      ]
    },
    {
      "cell_type": "code",
      "metadata": {
        "colab": {
          "base_uri": "https://localhost:8080/",
          "height": 282
        },
        "id": "GkjZzebki5wv",
        "outputId": "1326be63-fc54-4dbd-f6b8-45e388371a1e"
      },
      "source": [
        "from matplotlib import pyplot as pt\n",
        "pt.scatter(r1,y)"
      ],
      "execution_count": null,
      "outputs": [
        {
          "data": {
            "text/plain": [
              "<matplotlib.collections.PathCollection at 0x7f8475373810>"
            ]
          },
          "execution_count": 35,
          "metadata": {},
          "output_type": "execute_result"
        },
        {
          "data": {
            "image/png": "[encoded data removed]",
            "text/plain": [
              "<Figure size 432x288 with 1 Axes>"
            ]
          },
          "metadata": {},
          "output_type": "display_data"
        }
      ]
    },
    {
      "cell_type": "code",
      "metadata": {
        "id": "DIjfwrsoi5z_"
      },
      "source": [
        "from the above graph we can clearly observe that as the x valus increases at the starting point the y values appears to be lo and increase linearly\n",
        "therefore x is directly proportional to y"
      ],
      "execution_count": null,
      "outputs": []
    },
    {
      "cell_type": "code",
      "metadata": {
        "id": "6Fmt7RDPjL-R"
      },
      "source": [
        "s1=d['Schooling']\n",
        "y=d['Life expectancy ']\n",
        "print(s1,y)"
      ],
      "execution_count": null,
      "outputs": []
    },
    {
      "cell_type": "code",
      "metadata": {
        "id": "8NVkhQy4jL_q"
      },
      "source": [
        "from matplotlib import pyplot as pt\n",
        "pt.scatter(s1,y)"
      ],
      "execution_count": null,
      "outputs": []
    },
    {
      "cell_type": "code",
      "metadata": {
        "id": "qoRmNxxMjMDS"
      },
      "source": [
        "from the above graph we can clearly observe that as the x valus increases at the starting point the y values appears to be lo and increase linearly\n",
        "therefore x is directly proportional to y"
      ],
      "execution_count": null,
      "outputs": []
    },
    {
      "cell_type": "code",
      "metadata": {
        "id": "hIX4x7WEi57e"
      },
      "source": [
        "\n",
        "**END**\n"
      ],
      "execution_count": null,
      "outputs": []
    }
  ]
}